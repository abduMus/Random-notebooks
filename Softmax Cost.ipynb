{
 "cells": [
  {
   "cell_type": "code",
   "execution_count": 3,
   "metadata": {},
   "outputs": [],
   "source": [
    "import numpy as np"
   ]
  },
  {
   "cell_type": "code",
   "execution_count": 6,
   "metadata": {},
   "outputs": [],
   "source": [
    "def compute_probabilities(X, theta, temp_parameter):\n",
    "    \"\"\"\n",
    "    Computes, for each datapoint X[i], the probability that X[i] is labeled as j\n",
    "    for j = 0, 1, ..., k-1\n",
    "\n",
    "    Args:\n",
    "        X - (n, d) NumPy array (n datapoints each with d features)\n",
    "        theta - (k, d) NumPy array, where row j represents the parameters of our model for label j\n",
    "        temp_parameter - the temperature parameter of softmax function (scalar)\n",
    "    Returns:\n",
    "        H - (k, n) NumPy array, where each entry H[j][i] is the probability that X[i] is labeled as j\n",
    "    \"\"\"\n",
    "    #YOUR CODE HERE\n",
    "    theta_X = np.dot(theta, X.T)/temp_parameter\n",
    "    c = np.max(theta_X, axis=0)\n",
    "    term1 = 1/np.sum(np.exp(theta_X - c), axis=0)\n",
    "    term2 = np.exp(theta_X - c)\n",
    "    probs = term1*term2\n",
    "    return probs\n",
    "\n"
   ]
  },
  {
   "cell_type": "code",
   "execution_count": 11,
   "metadata": {},
   "outputs": [],
   "source": [
    "def compute_cost_function(X, Y, theta, lambda_factor, temp_parameter):\n",
    "    \"\"\"\n",
    "    Computes the total cost over every datapoint.\n",
    "\n",
    "    Args:\n",
    "        X - (n, d) NumPy array (n datapoints each with d features)\n",
    "        Y - (n, ) NumPy array containing the labels (a number from 0-9) for each\n",
    "            data point\n",
    "        theta - (k, d) NumPy array, where row j represents the parameters of our\n",
    "                model for label j\n",
    "        lambda_factor - the regularization constant (scalar)\n",
    "        temp_parameter - the temperature parameter of softmax function (scalar)\n",
    "\n",
    "    Returns\n",
    "        c - the cost value (scalar)\n",
    "    \"\"\"\n",
    "    n = X.shape[0]\n",
    "    k = theta.shape[0]\n",
    "    reg = lambda_factor/2 * np.linalg.norm(theta)\n",
    "\n",
    "    log_probs = np.log(compute_probabilities(X, theta, temp_parameter))\n",
    "\n",
    "    cost = 0\n",
    "    for i in range(n):\n",
    "        for j in range(k):\n",
    "            if Y[i] == j:\n",
    "                cost += log_probs[j]\n",
    "\n",
    "    return -np.sum(cost)/len(Y)**2 + reg"
   ]
  },
  {
   "cell_type": "code",
   "execution_count": 12,
   "metadata": {},
   "outputs": [
    {
     "name": "stdout",
     "output_type": "stream",
     "text": [
      "1.68915877604923\n"
     ]
    }
   ],
   "source": [
    "X = np.array([[1.,        0.8952439,  0.19803336, 0.96064058, 0.53690055],\n",
    "              [1.,        0.03260465, 0.36628576, 0.80935996, 0.69563339],\n",
    "              [1.,        0.12633139, 0.87646967, 0.56129179, 0.71368294]])\n",
    "\n",
    "Y = np.array([[3, 2, 0]]).T\n",
    "\n",
    "theta = np.array([[0.82876051, 0.55741146, 0.22405162, 0.11129421, 0.59229072],\n",
    "                  [0.67248567, 0.57445413, 0.72155054, 0.77835744, 0.0576578 ],\n",
    "                  [0.22500609, 0.11383772, 0.53580948, 0.69958244, 0.10515939],\n",
    "                  [0.93356274, 0.1011183 , 0.98104938, 0.66789743, 0.25662077]])\n",
    "\n",
    "lambda_factor = 0.01\n",
    "temp_parameter = 0.6\n",
    "\n",
    "print(compute_cost_function(X, Y, theta, lambda_factor, temp_parameter))"
   ]
  },
  {
   "cell_type": "code",
   "execution_count": null,
   "metadata": {},
   "outputs": [],
   "source": []
  }
 ],
 "metadata": {
  "kernelspec": {
   "display_name": "Python 3",
   "language": "python",
   "name": "python3"
  },
  "language_info": {
   "codemirror_mode": {
    "name": "ipython",
    "version": 3
   },
   "file_extension": ".py",
   "mimetype": "text/x-python",
   "name": "python",
   "nbconvert_exporter": "python",
   "pygments_lexer": "ipython3",
   "version": "3.7.3"
  }
 },
 "nbformat": 4,
 "nbformat_minor": 2
}
