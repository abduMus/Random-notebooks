{
 "cells": [
  {
   "cell_type": "code",
   "execution_count": 1,
   "metadata": {},
   "outputs": [],
   "source": [
    "import numpy as np\n",
    "import matplotlib.pyplot as plt"
   ]
  },
  {
   "cell_type": "code",
   "execution_count": 2,
   "metadata": {},
   "outputs": [],
   "source": [
    "T = 100\n",
    "theta = np.array([0,0, 0])\n",
    "theta0 = 0\n",
    "\n",
    "#x = np.array([[-1,-1], [1,0], [-1,10]])\n",
    "#x = np.array([[-1,0], [0,1]])\n",
    "#x = np.array([[0,1, 2], [-1,0, -1], [1, 0, 3]])\n",
    "#x = np.array([[1, 0, 3], [0,1, 2], [-1,0, -1]])\n",
    "x = np.array([[1,1, 3], [2, 1, 4],[3,1, 5]])\n",
    "\n",
    "\n",
    "n = len(x)\n",
    "y = np.array([1, 1, 1])"
   ]
  },
  {
   "cell_type": "code",
   "execution_count": 3,
   "metadata": {},
   "outputs": [
    {
     "data": {
      "text/plain": [
       "array([[ 0,  0, -2],\n",
       "       [-1,  0, -3],\n",
       "       [-2,  0, -4]])"
      ]
     },
     "execution_count": 3,
     "metadata": {},
     "output_type": "execute_result"
    }
   ],
   "source": [
    "1 -x"
   ]
  },
  {
   "cell_type": "code",
   "execution_count": 4,
   "metadata": {
    "scrolled": false
   },
   "outputs": [
    {
     "name": "stdout",
     "output_type": "stream",
     "text": [
      "theta vector before update:  [0 0 0]\n",
      "theta0 after before:  0\n",
      "theta vector after update:  [1 1 3]\n",
      "1\n"
     ]
    }
   ],
   "source": [
    "myBool = True\n",
    "\n",
    "print('theta vector before update: ', theta)\n",
    "print('theta0 after before: ', theta0)\n",
    "count = 0\n",
    "for t in range(T):\n",
    "    for i in range(n):\n",
    "        if y[i]*(np.dot(theta.T,x[i]) + theta0) <= 0:\n",
    "            theta = theta + y[i]*x[i]\n",
    "            print('theta vector after update: ', theta)\n",
    "            count += 1\n",
    "            print(count)"
   ]
  },
  {
   "cell_type": "code",
   "execution_count": 24,
   "metadata": {},
   "outputs": [
    {
     "data": {
      "text/plain": [
       "[<matplotlib.lines.Line2D at 0x7fa172e4e208>]"
      ]
     },
     "execution_count": 24,
     "metadata": {},
     "output_type": "execute_result"
    },
    {
     "data": {
      "image/png": "[encoded data removed]",
      "text/plain": [
       "<Figure size 432x288 with 1 Axes>"
      ]
     },
     "metadata": {
      "needs_background": "light"
     },
     "output_type": "display_data"
    }
   ],
   "source": [
    "import numpy as np\n",
    "import matplotlib.pyplot as plt\n",
    "\n",
    "xmin, xmax = -1, 2\n",
    "xx = np.linspace(xmin, xmax, 100)\n",
    "plt.plot(xx, np.where(xx < 1, 1 - xx, 0), label=\"Hinge loss\")"
   ]
  },
  {
   "cell_type": "code",
   "execution_count": 26,
   "metadata": {},
   "outputs": [],
   "source": [
    "THETA = np.array([0,0, 0])\n",
    "THETA0 = 0\n",
    "\n",
    "\n",
    "x = np.array([[1,1, 3], [2, 1, 4],[3,1, 5]])\n",
    "y = np.array([1, 1, 1])"
   ]
  },
  {
   "cell_type": "code",
   "execution_count": 56,
   "metadata": {},
   "outputs": [],
   "source": [
    "def hinge_loss_full(feature_matrix, labels, theta, theta_0):\n",
    "    \"\"\"\n",
    "    Finds the total hinge loss on a set of data given specific classification\n",
    "    parameters.\n",
    "\n",
    "    Args:\n",
    "        feature_matrix - A numpy matrix describing the given data. Each row\n",
    "            represents a single data point.\n",
    "        labels - A numpy array where the kth element of the array is the\n",
    "            correct classification of the kth row of the feature matrix.\n",
    "        theta - A numpy array describing the linear classifier.\n",
    "        theta_0 - A real valued number representing the offset parameter.\n",
    "\n",
    "\n",
    "    Returns: A real number representing the hinge loss associated with the\n",
    "    given dataset and parameters. This number should be the average hinge\n",
    "    loss across all of the points in the feature matrix.\n",
    "    \"\"\"\n",
    "    # Your code here\n",
    "    summa = 0\n",
    "\n",
    "    n = len(labels)\n",
    "    for row in range(n):\n",
    "        summa += max(0, 1 - labels[row]*(np.dot(theta, feature_matrix[row]) + theta_0))\n",
    "\n",
    "    return summa/n#pragma: coderesponse end"
   ]
  },
  {
   "cell_type": "code",
   "execution_count": 57,
   "metadata": {},
   "outputs": [
    {
     "data": {
      "text/plain": [
       "1.0"
      ]
     },
     "execution_count": 57,
     "metadata": {},
     "output_type": "execute_result"
    }
   ],
   "source": [
    "hinge_loss_full(x, y, THETA, THETA0)"
   ]
  },
  {
   "cell_type": "code",
   "execution_count": 80,
   "metadata": {},
   "outputs": [],
   "source": [
    "!cd /home/abdu/Documents/Work/DataScienceandStatistics/Course4/resources_sentiment_analysis/sentiment_analysis\n",
    "import random\n",
    "def get_order(n_samples):\n",
    "    try:\n",
    "        with open(str(n_samples) + '.txt') as fp:\n",
    "            line = fp.readline()\n",
    "            return list(map(int, line.split(',')))\n",
    "    except FileNotFoundError:\n",
    "        random.seed(1)\n",
    "        indices = list(range(n_samples))\n",
    "        random.shuffle(indices)\n",
    "        return indices"
   ]
  },
  {
   "cell_type": "code",
   "execution_count": 94,
   "metadata": {},
   "outputs": [],
   "source": [
    "def perceptron_single_step_update(\n",
    "        feature_vector,\n",
    "        label,\n",
    "        current_theta,\n",
    "        current_theta_0):\n",
    "    \"\"\"\n",
    "    Properly updates the classification parameter, theta and theta_0, on a\n",
    "    single step of the perceptron algorithm.\n",
    "\n",
    "    Args:\n",
    "        feature_vector - A numpy array describing a single data point.\n",
    "        label - The correct classification of the feature vector.\n",
    "        current_theta - The current theta being used by the perceptron\n",
    "            algorithm before this update.\n",
    "        current_theta_0 - The current theta_0 being used by the perceptron\n",
    "            algorithm before this update.\n",
    "\n",
    "    Returns: A tuple where the first element is a numpy array with the value of\n",
    "    theta after the current update has completed and the second element is a\n",
    "    real valued number with the value of theta_0 after the current updated has\n",
    "    completed.\n",
    "    \"\"\"\n",
    "\n",
    "\n",
    "    if label*(np.dot(current_theta.T, feature_vector) + current_theta_0) <= 0:\n",
    "        current_theta = current_theta + label*feature_vector\n",
    "        current_theta_0 = current_theta_0 + label\n",
    "    \n",
    "    return (current_theta, current_theta_0)"
   ]
  },
  {
   "cell_type": "code",
   "execution_count": 135,
   "metadata": {},
   "outputs": [],
   "source": [
    "def perceptron(feature_matrix, labels, T):\n",
    "    \"\"\"\n",
    "    Runs the full perceptron algorithm on a given set of data. Runs T\n",
    "    iterations through the data set, there is no need to worry about\n",
    "    stopping early.\n",
    "\n",
    "    NOTE: Please use the previously implemented functions when applicable.\n",
    "    Do not copy paste code from previous parts.\n",
    "\n",
    "    NOTE: Iterate the data matrix by the orders returned by get_order(feature_matrix.shape[0])\n",
    "\n",
    "    Args:\n",
    "        feature_matrix -  A numpy matrix describing the given data. Each row\n",
    "            represents a single data point.\n",
    "        labels - A numpy array where the kth element of the array is the\n",
    "            correct classification of the kth row of the feature matrix.\n",
    "        T - An integer indicating how many times the perceptron algorithm\n",
    "            should iterate through the feature matrix.\n",
    "\n",
    "    Returns: A tuple where the first element is a numpy array with the value of\n",
    "    theta, the linear classification parameter, after T iterations through the\n",
    "    feature matrix and the second element is a real number with the value of\n",
    "    theta_0, the offset classification parameter, after T iterations through\n",
    "    the feature matrix.\n",
    "    \"\"\"\n",
    "    # Your code here\n",
    "\n",
    "    n = feature_matrix.shape[0]\n",
    "    m = feature_matrix.shape[1]\n",
    "\n",
    "    theta = np.zeros((m))\n",
    "    theta_0 = 0\n",
    "    \n",
    "    for t in range(T):\n",
    "        for i in get_order(n):\n",
    "            theta, theta_0 = perceptron_single_step_update(feature_matrix[i],labels[i],theta,theta_0)\n",
    "        \n",
    "    return theta, theta_0    \n",
    "    #pragma: coderesponse end"
   ]
  },
  {
   "cell_type": "code",
   "execution_count": 136,
   "metadata": {},
   "outputs": [
    {
     "data": {
      "text/plain": [
       "(array([2., 1., 4.]), 1)"
      ]
     },
     "execution_count": 136,
     "metadata": {},
     "output_type": "execute_result"
    }
   ],
   "source": [
    "perceptron(x, y, 10)"
   ]
  },
  {
   "cell_type": "code",
   "execution_count": 127,
   "metadata": {},
   "outputs": [],
   "source": [
    "x1 = np.array([[ 0.31382123,  0.48619225,  0.03534782, -0.10951293,  0.07773078,  0.36117366,\n",
    "   0.05091706,  0.0499382,   0.27342837,  0.00593473,],\n",
    " [-0.03541288, -0.46036455, -0.30101784,  0.0840269,   0.30649049, -0.20405247,\n",
    "  -0.1588674,   0.26404615, -0.28515552, -0.4082992 ],\n",
    " [-0.08700605, -0.19675057,  0.01323402,  0.03653932,  0.36630285,  0.2647706,\n",
    "   0.45065998, -0.11420092,  0.30669276, -0.02155026],\n",
    " [-0.26792582, -0.36238016, -0.46575882, -0.43850379, -0.40258849, -0.25178535,\n",
    "   0.32683307,  0.37609304,  0.03089014,  0.37886258],\n",
    " [ 0.49153918, -0.26320771,  0.34896811,  0.10002739, -0.01148088, -0.49544567,\n",
    "   0.02470812, -0.20782521,  0.19346144, -0.11045922]])\n",
    "y1 =  np.array([-1,  1,  1,  1, -1])"
   ]
  },
  {
   "cell_type": "code",
   "execution_count": 128,
   "metadata": {},
   "outputs": [
    {
     "data": {
      "text/plain": [
       "(array([-0.92777934, -0.88009966, -0.67209975,  0.13005176,  0.60654344,\n",
       "         0.19499014,  0.2161674 ,  0.30773224, -0.44535257, -0.32532497]), 0)"
      ]
     },
     "execution_count": 128,
     "metadata": {},
     "output_type": "execute_result"
    }
   ],
   "source": [
    "perceptron(x1, y1, 5)"
   ]
  },
  {
   "cell_type": "code",
   "execution_count": 105,
   "metadata": {},
   "outputs": [],
   "source": [
    "# perceptron output is ['-1.1602923', '-0.7821153', '-0.8368407', '-0.3924789', '-0.1025355', '0.1472573', '0.7018679', '0.4197791', '-0.1293069', '0.4618368']"
   ]
  },
  {
   "cell_type": "code",
   "execution_count": null,
   "metadata": {},
   "outputs": [],
   "source": []
  }
 ],
 "metadata": {
  "kernelspec": {
   "display_name": "Python 3",
   "language": "python",
   "name": "python3"
  },
  "language_info": {
   "codemirror_mode": {
    "name": "ipython",
    "version": 3
   },
   "file_extension": ".py",
   "mimetype": "text/x-python",
   "name": "python",
   "nbconvert_exporter": "python",
   "pygments_lexer": "ipython3",
   "version": "3.7.3"
  }
 },
 "nbformat": 4,
 "nbformat_minor": 2
}
