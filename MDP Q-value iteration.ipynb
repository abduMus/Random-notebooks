{
 "cells": [
  {
   "cell_type": "code",
   "execution_count": 1,
   "metadata": {},
   "outputs": [],
   "source": [
    "import numpy as np"
   ]
  },
  {
   "cell_type": "code",
   "execution_count": 2,
   "metadata": {},
   "outputs": [],
   "source": [
    "T = np.zeros((6, 2, 6))\n",
    "R = np.zeros((6, 2, 6))"
   ]
  },
  {
   "cell_type": "code",
   "execution_count": 3,
   "metadata": {},
   "outputs": [],
   "source": [
    "T[0, 0, 0] = T[0, 1, 0] = 1\n",
    "T[4, 0, 3] = T[5, 0, 4] = T[4, 1, 4] = T[5, 1, 5] = 1\n",
    "T[1, 0, 0] = T[2, 0, 1] = T[3, 0, 2] = 1\n",
    "T[1, 1, 3] = T[2, 1, 4] = T[3, 1, 5] = 0.7\n",
    "T[1, 1, 1] = T[2, 1, 2] = T[3, 1, 3] = 0.3"
   ]
  },
  {
   "cell_type": "code",
   "execution_count": 4,
   "metadata": {},
   "outputs": [],
   "source": [
    "for i in range(6):\n",
    "    for j in range(2):\n",
    "        for k in range(6):\n",
    "            if i == k and i != 0:\n",
    "                R[i, j, k] = (i + 4)**(-1/2)\n",
    "            else:\n",
    "                R[i, j, k] = np.absolute((k - i)**(1/3))"
   ]
  },
  {
   "cell_type": "code",
   "execution_count": 5,
   "metadata": {},
   "outputs": [
    {
     "data": {
      "text/plain": [
       "array([[[1. , 0. , 0. , 0. , 0. , 0. ],\n",
       "        [1. , 0. , 0. , 0. , 0. , 0. ]],\n",
       "\n",
       "       [[1. , 0. , 0. , 0. , 0. , 0. ],\n",
       "        [0. , 0.3, 0. , 0.7, 0. , 0. ]],\n",
       "\n",
       "       [[0. , 1. , 0. , 0. , 0. , 0. ],\n",
       "        [0. , 0. , 0.3, 0. , 0.7, 0. ]],\n",
       "\n",
       "       [[0. , 0. , 1. , 0. , 0. , 0. ],\n",
       "        [0. , 0. , 0. , 0.3, 0. , 0.7]],\n",
       "\n",
       "       [[0. , 0. , 0. , 1. , 0. , 0. ],\n",
       "        [0. , 0. , 0. , 0. , 1. , 0. ]],\n",
       "\n",
       "       [[0. , 0. , 0. , 0. , 1. , 0. ],\n",
       "        [0. , 0. , 0. , 0. , 0. , 1. ]]])"
      ]
     },
     "execution_count": 5,
     "metadata": {},
     "output_type": "execute_result"
    }
   ],
   "source": [
    "T"
   ]
  },
  {
   "cell_type": "code",
   "execution_count": 6,
   "metadata": {},
   "outputs": [
    {
     "data": {
      "text/plain": [
       "array([[[0.        , 1.        , 1.25992105, 1.44224957, 1.58740105,\n",
       "         1.70997595],\n",
       "        [0.        , 1.        , 1.25992105, 1.44224957, 1.58740105,\n",
       "         1.70997595]],\n",
       "\n",
       "       [[1.        , 0.4472136 , 1.        , 1.25992105, 1.44224957,\n",
       "         1.58740105],\n",
       "        [1.        , 0.4472136 , 1.        , 1.25992105, 1.44224957,\n",
       "         1.58740105]],\n",
       "\n",
       "       [[1.25992105, 1.        , 0.40824829, 1.        , 1.25992105,\n",
       "         1.44224957],\n",
       "        [1.25992105, 1.        , 0.40824829, 1.        , 1.25992105,\n",
       "         1.44224957]],\n",
       "\n",
       "       [[1.44224957, 1.25992105, 1.        , 0.37796447, 1.        ,\n",
       "         1.25992105],\n",
       "        [1.44224957, 1.25992105, 1.        , 0.37796447, 1.        ,\n",
       "         1.25992105]],\n",
       "\n",
       "       [[1.58740105, 1.44224957, 1.25992105, 1.        , 0.35355339,\n",
       "         1.        ],\n",
       "        [1.58740105, 1.44224957, 1.25992105, 1.        , 0.35355339,\n",
       "         1.        ]],\n",
       "\n",
       "       [[1.70997595, 1.58740105, 1.44224957, 1.25992105, 1.        ,\n",
       "         0.33333333],\n",
       "        [1.70997595, 1.58740105, 1.44224957, 1.25992105, 1.        ,\n",
       "         0.33333333]]])"
      ]
     },
     "execution_count": 6,
     "metadata": {},
     "output_type": "execute_result"
    }
   ],
   "source": [
    "R"
   ]
  },
  {
   "cell_type": "code",
   "execution_count": 9,
   "metadata": {},
   "outputs": [
    {
     "data": {
      "text/plain": [
       "array([[0.        , 0.        ],\n",
       "       [1.        , 1.01610881],\n",
       "       [1.        , 1.00441922],\n",
       "       [1.        , 0.99533408],\n",
       "       [1.        , 0.35355339],\n",
       "       [1.        , 0.33333333]])"
      ]
     },
     "execution_count": 9,
     "metadata": {},
     "output_type": "execute_result"
    }
   ],
   "source": [
    "Q_0 = np.zeros((6,2))\n",
    "Q_1 = np.zeros((6,2))\n",
    "gamma = 0.6\n",
    "for s in range(6):\n",
    "    for s_prime in range(6):\n",
    "        for a in range(2):\n",
    "            Q_1[s, a] += T[s, a, s_prime]*(R[s, a, s_prime] + gamma*max(Q_0[s_prime, 0], Q_0[s_prime, 1]))\n",
    "Q"
   ]
  },
  {
   "cell_type": "code",
   "execution_count": null,
   "metadata": {},
   "outputs": [],
   "source": []
  },
  {
   "cell_type": "code",
   "execution_count": 23,
   "metadata": {},
   "outputs": [],
   "source": [
    "T = np.zeros((4, 2, 4))\n",
    "R = np.zeros((4, 2, 4))"
   ]
  },
  {
   "cell_type": "code",
   "execution_count": 24,
   "metadata": {},
   "outputs": [
    {
     "data": {
      "text/plain": [
       "array([[[0. , 1. , 0. , 0. ],\n",
       "        [0. , 0.5, 0.5, 0. ]],\n",
       "\n",
       "       [[0. , 0. , 1. , 0. ],\n",
       "        [0. , 0. , 0.5, 0.5]],\n",
       "\n",
       "       [[0. , 0. , 0. , 1. ],\n",
       "        [0. , 0. , 0. , 1. ]],\n",
       "\n",
       "       [[0. , 0. , 0. , 0. ],\n",
       "        [0. , 0. , 0. , 0. ]]])"
      ]
     },
     "execution_count": 24,
     "metadata": {},
     "output_type": "execute_result"
    }
   ],
   "source": [
    "T[0, 0, 1] = T[1, 0, 2] = T[2, 0, 3] = 1.0\n",
    "T[0, 1, 1] = T[0, 1, 2] = T[1, 1, 2] = T[1, 1, 3] = 0.5\n",
    "T[2, 1, 3] = 1.0\n",
    "T"
   ]
  },
  {
   "cell_type": "code",
   "execution_count": 25,
   "metadata": {},
   "outputs": [
    {
     "data": {
      "text/plain": [
       "array([[[ 0.,  0.,  0.,  0.],\n",
       "        [ 0., -1., -1.,  0.]],\n",
       "\n",
       "       [[ 0.,  0.,  0.,  0.],\n",
       "        [ 0.,  0., -1.,  9.]],\n",
       "\n",
       "       [[ 0.,  0.,  0., 10.],\n",
       "        [ 0.,  0.,  0.,  9.]],\n",
       "\n",
       "       [[ 0.,  0.,  0.,  0.],\n",
       "        [ 0.,  0.,  0.,  0.]]])"
      ]
     },
     "execution_count": 25,
     "metadata": {},
     "output_type": "execute_result"
    }
   ],
   "source": [
    "R[2, 0, 3] = 10\n",
    "R[0, 1, 1] = R[0, 1, 2] = R[1, 1, 2] = -1\n",
    "R[1, 1, 3] = R[2, 1, 3] = 9\n",
    "R"
   ]
  },
  {
   "cell_type": "code",
   "execution_count": 50,
   "metadata": {},
   "outputs": [
    {
     "data": {
      "text/plain": [
       "array([[ 1.33333333,  1.33333333],\n",
       "       [ 3.33333333,  5.66666667],\n",
       "       [10.        ,  9.        ],\n",
       "       [ 0.        ,  0.        ]])"
      ]
     },
     "execution_count": 50,
     "metadata": {},
     "output_type": "execute_result"
    }
   ],
   "source": [
    "Q_0 = np.zeros((4,2))\n",
    "gamma = 1/3\n",
    "for _ in range(2):\n",
    "    Q_1 = np.zeros((4,2))\n",
    "    for s in range(4):\n",
    "        for s_prime in range(4):\n",
    "            for a in range(2):\n",
    "                Q_1[s, a] += T[s, a, s_prime]*(R[s, a, s_prime] + gamma*max(Q_0[s_prime, 0], Q_0[s_prime, 1]))\n",
    "    Q_0 = Q_1\n",
    "Q_1"
   ]
  },
  {
   "cell_type": "code",
   "execution_count": null,
   "metadata": {},
   "outputs": [],
   "source": []
  }
 ],
 "metadata": {
  "kernelspec": {
   "display_name": "Python 3",
   "language": "python",
   "name": "python3"
  },
  "language_info": {
   "codemirror_mode": {
    "name": "ipython",
    "version": 3
   },
   "file_extension": ".py",
   "mimetype": "text/x-python",
   "name": "python",
   "nbconvert_exporter": "python",
   "pygments_lexer": "ipython3",
   "version": "3.7.3"
  }
 },
 "nbformat": 4,
 "nbformat_minor": 2
}
