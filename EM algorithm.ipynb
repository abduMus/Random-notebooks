{
 "cells": [
  {
   "cell_type": "code",
   "execution_count": 2,
   "metadata": {},
   "outputs": [],
   "source": [
    "import numpy as np"
   ]
  },
  {
   "cell_type": "code",
   "execution_count": null,
   "metadata": {},
   "outputs": [],
   "source": []
  },
  {
   "cell_type": "code",
   "execution_count": 3,
   "metadata": {},
   "outputs": [],
   "source": [
    "mu1 = -3\n",
    "mu2 = 2\n",
    "sig1 = 4\n",
    "sig2 = 4\n",
    "p1 = 0.5\n",
    "p2 = 0.5"
   ]
  },
  {
   "cell_type": "code",
   "execution_count": 31,
   "metadata": {},
   "outputs": [],
   "source": [
    "x1 = 0.2\n",
    "x2 = -0.9\n",
    "x3 = -1\n",
    "x4 = 1.2\n",
    "x5 = 1.8"
   ]
  },
  {
   "cell_type": "code",
   "execution_count": 32,
   "metadata": {},
   "outputs": [
    {
     "data": {
      "text/plain": [
       "0.29421497216298875"
      ]
     },
     "execution_count": 32,
     "metadata": {},
     "output_type": "execute_result"
    }
   ],
   "source": [
    "p11 = p1 * gauss(x1, mu1, sig1) / ((p1 * gauss(x1, mu1, sig1)) + (p2 * gauss(x1, mu2, sig2)))\n",
    "p12 = p1 * gauss(x2, mu1, sig1) / ((p1 * gauss(x2, mu1, sig1)) + (p2 * gauss(x2, mu2, sig2)))\n",
    "p13 = p1 * gauss(x3, mu1, sig1) / ((p1 * gauss(x3, mu1, sig1)) + (p2 * gauss(x3, mu2, sig2)))\n",
    "p14 = p1 * gauss(x4, mu1, sig1) / ((p1 * gauss(x4, mu1, sig1)) + (p2 * gauss(x4, mu2, sig2)))\n",
    "p15 = p1 * gauss(x5, mu1, sig1) / ((p1 * gauss(x5, mu1, sig1)) + (p2 * gauss(x5, mu2, sig2)))"
   ]
  },
  {
   "cell_type": "code",
   "execution_count": 41,
   "metadata": {},
   "outputs": [
    {
     "data": {
      "text/plain": [
       "1.728123091776373"
      ]
     },
     "execution_count": 41,
     "metadata": {},
     "output_type": "execute_result"
    }
   ],
   "source": [
    "n1_hat = p11 + p12 + p13 + p14 + p15\n",
    "n1_hat"
   ]
  },
  {
   "cell_type": "code",
   "execution_count": 42,
   "metadata": {},
   "outputs": [
    {
     "data": {
      "text/plain": [
       "0.3456246183552746"
      ]
     },
     "execution_count": 42,
     "metadata": {},
     "output_type": "execute_result"
    }
   ],
   "source": [
    "p1_hat = n1_hat/5\n",
    "p1_hat"
   ]
  },
  {
   "cell_type": "code",
   "execution_count": 43,
   "metadata": {},
   "outputs": [
    {
     "data": {
      "text/plain": [
       "-0.5373289474340417"
      ]
     },
     "execution_count": 43,
     "metadata": {},
     "output_type": "execute_result"
    }
   ],
   "source": [
    "mu1_hat = 1/n1_hat * (p11*x1 + p12*x2 + p13*x3 + p14*x4 + p15*x5)\n",
    "mu1_hat"
   ]
  },
  {
   "cell_type": "code",
   "execution_count": 44,
   "metadata": {},
   "outputs": [
    {
     "data": {
      "text/plain": [
       "0.5757859076870628"
      ]
     },
     "execution_count": 44,
     "metadata": {},
     "output_type": "execute_result"
    }
   ],
   "source": [
    "sig1_hat = 1/n1_hat * (p11*(x1-mu1_hat)**2 + p12*(x2-mu1_hat)**2 + p13*(x3-mu1_hat)**2 + p14*(x4-mu1_hat)**2 + p15*(x5-mu1_hat)**2)\n",
    "sig1_hat"
   ]
  },
  {
   "cell_type": "code",
   "execution_count": 45,
   "metadata": {},
   "outputs": [],
   "source": [
    "p21 = p1 * gauss(x1, mu2, sig2) / ((p1 * gauss(x1, mu1, sig1)) + (p2 * gauss(x1, mu2, sig2)))\n",
    "p22 = p1 * gauss(x2, mu2, sig2) / ((p1 * gauss(x2, mu1, sig1)) + (p2 * gauss(x2, mu2, sig2)))\n",
    "p23 = p1 * gauss(x3, mu2, sig2) / ((p1 * gauss(x3, mu1, sig1)) + (p2 * gauss(x3, mu2, sig2)))\n",
    "p24 = p1 * gauss(x4, mu2, sig2) / ((p1 * gauss(x4, mu1, sig1)) + (p2 * gauss(x4, mu2, sig2)))\n",
    "p25 = p1 * gauss(x5, mu2, sig2) / ((p1 * gauss(x5, mu1, sig1)) + (p2 * gauss(x5, mu2, sig2)))"
   ]
  },
  {
   "cell_type": "code",
   "execution_count": 46,
   "metadata": {},
   "outputs": [
    {
     "data": {
      "text/plain": [
       "3.271876908223627"
      ]
     },
     "execution_count": 46,
     "metadata": {},
     "output_type": "execute_result"
    }
   ],
   "source": [
    "n2_hat = p21 + p22 + p23 + p24 + p25\n",
    "n2_hat"
   ]
  },
  {
   "cell_type": "code",
   "execution_count": 47,
   "metadata": {},
   "outputs": [
    {
     "data": {
      "text/plain": [
       "0.6543753816447254"
      ]
     },
     "execution_count": 47,
     "metadata": {},
     "output_type": "execute_result"
    }
   ],
   "source": [
    "p2_hat = n2_hat/5\n",
    "p2_hat"
   ]
  },
  {
   "cell_type": "code",
   "execution_count": 48,
   "metadata": {},
   "outputs": [
    {
     "data": {
      "text/plain": [
       "0.681129096372577"
      ]
     },
     "execution_count": 48,
     "metadata": {},
     "output_type": "execute_result"
    }
   ],
   "source": [
    "mu2_hat = 1/n2_hat * (p21*x1 + p22*x2 + p23*x3 + p24*x4 + p25*x5)\n",
    "mu2_hat"
   ]
  },
  {
   "cell_type": "code",
   "execution_count": 49,
   "metadata": {},
   "outputs": [
    {
     "data": {
      "text/plain": [
       "1.0752479631618013"
      ]
     },
     "execution_count": 49,
     "metadata": {},
     "output_type": "execute_result"
    }
   ],
   "source": [
    "sig2_hat = 1/n2_hat * (p21*(x1-mu2_hat)**2 + p22*(x2-mu2_hat)**2 + p23*(x3-mu2_hat)**2 + p24*(x4-mu2_hat)**2 + p25*(x5-mu2_hat)**2)\n",
    "sig2_hat"
   ]
  },
  {
   "cell_type": "code",
   "execution_count": null,
   "metadata": {},
   "outputs": [],
   "source": []
  },
  {
   "cell_type": "code",
   "execution_count": 4,
   "metadata": {},
   "outputs": [],
   "source": [
    "def gauss(x, mu, sigma_sq):\n",
    "    return 1 / np.sqrt(2*np.pi*sigma_sq) * np.exp(-(x - mu)**2 / (2 * sigma_sq))"
   ]
  },
  {
   "cell_type": "code",
   "execution_count": 5,
   "metadata": {},
   "outputs": [],
   "source": [
    "ps = [0.5, 0.5]\n",
    "mus = [6, 7]\n",
    "sigs = [1, 4]\n",
    "\n",
    "X = [-1, 0, 4, 5, 6]\n",
    "n = len(X)\n",
    "K = 2"
   ]
  },
  {
   "cell_type": "code",
   "execution_count": 4,
   "metadata": {},
   "outputs": [],
   "source": [
    "res = []\n",
    "\n",
    "for x in X:\n",
    "    res.append(ps[0]*gauss(x, mus[0], sigs[0]) + ps[1]*gauss(x, mus[1], sigs[1]))"
   ]
  },
  {
   "cell_type": "code",
   "execution_count": 5,
   "metadata": {},
   "outputs": [
    {
     "data": {
      "text/plain": [
       "-24.512532330086678"
      ]
     },
     "execution_count": 5,
     "metadata": {},
     "output_type": "execute_result"
    }
   ],
   "source": [
    "np.log(res[0]*res[1]*res[2]*res[3]*res[4])"
   ]
  },
  {
   "cell_type": "code",
   "execution_count": null,
   "metadata": {},
   "outputs": [],
   "source": []
  },
  {
   "cell_type": "code",
   "execution_count": 6,
   "metadata": {},
   "outputs": [
    {
     "data": {
      "text/plain": [
       "[3.3457561008581545e-05,\n",
       " 0.00021817371170286496,\n",
       " 0.05937488217306697,\n",
       " 0.18147804338935752,\n",
       " 0.28748747189179125]"
      ]
     },
     "execution_count": 6,
     "metadata": {},
     "output_type": "execute_result"
    }
   ],
   "source": [
    "res"
   ]
  },
  {
   "cell_type": "code",
   "execution_count": 8,
   "metadata": {},
   "outputs": [
    {
     "name": "stdout",
     "output_type": "stream",
     "text": [
      "False\n",
      "False\n",
      "False\n",
      "True\n",
      "True\n"
     ]
    }
   ],
   "source": [
    "for i in range(len(X)):\n",
    "    print(ps[0] * gauss(X[i], mus[0], sigs[0])/res[i]>ps[1] * gauss(X[i], mus[1], sigs[1])/res[i])"
   ]
  },
  {
   "cell_type": "code",
   "execution_count": null,
   "metadata": {},
   "outputs": [],
   "source": []
  },
  {
   "cell_type": "code",
   "execution_count": 9,
   "metadata": {},
   "outputs": [],
   "source": []
  },
  {
   "cell_type": "code",
   "execution_count": 176,
   "metadata": {},
   "outputs": [],
   "source": [
    "def gauss(x, mu, sigma_sq):\n",
    "    return 1 / np.sqrt(2*np.pi*sigma_sq) * np.exp(-(x - mu)**2 / (2 * sigma_sq))"
   ]
  },
  {
   "cell_type": "code",
   "execution_count": 395,
   "metadata": {},
   "outputs": [],
   "source": [
    "ps = np.array([0.5, 0.5])\n",
    "mus = np.array([6., 7.])\n",
    "sigs = np.array([1., 4.])\n",
    "X = np.array([-1, 0, 4, 5, 6])\n",
    "n = len(X)\n",
    "K = 2\n",
    "\n",
    "r = np.zeros((n, K))"
   ]
  },
  {
   "cell_type": "code",
   "execution_count": 396,
   "metadata": {
    "scrolled": false
   },
   "outputs": [
    {
     "name": "stdout",
     "output_type": "stream",
     "text": [
      "probabilities: [0.6 0.4]\n",
      "means: [ 4.99999998 -0.5       ]\n",
      "sigmas: [0.66666676 0.25      ]\n"
     ]
    }
   ],
   "source": [
    "trials = 100\n",
    "\n",
    "for trial in range(trials):\n",
    "    #print('step:,',trial)\n",
    "\n",
    "    \n",
    "    # E-step\n",
    "    for j in range(K):\n",
    "        for i in range(n):\n",
    "            r[i][j] = ps[j]*gauss(X[i], mus[j], sigs[j])\n",
    "    for i in range(n):\n",
    "        r[i] /= (np.sum(r,axis=1)[i])\n",
    "    \n",
    "    n_k = np.sum(r, axis=0)\n",
    "    # M step\n",
    "    for j in range(K):\n",
    "        mus[j] = np.dot(r[:, j], X)/n_k[j]\n",
    "        sigs[j] = np.dot(r[:, j], (X - mus[j])**2) / n_k[j]\n",
    "        ps[j] = n_k[j]/n\n",
    "\n",
    "print('probabilities:', ps)\n",
    "print('means:',mus)\n",
    "print('sigmas:', sigs)"
   ]
  },
  {
   "cell_type": "code",
   "execution_count": null,
   "metadata": {},
   "outputs": [],
   "source": []
  },
  {
   "cell_type": "code",
   "execution_count": null,
   "metadata": {},
   "outputs": [],
   "source": []
  },
  {
   "cell_type": "code",
   "execution_count": null,
   "metadata": {},
   "outputs": [],
   "source": []
  },
  {
   "cell_type": "code",
   "execution_count": 139,
   "metadata": {},
   "outputs": [],
   "source": [
    "X = np.array([[0.85794562, 0.84725174],\n",
    " [0.6235637,  0.38438171],\n",
    " [0.29753461, 0.05671298],\n",
    " [0.27265629, 0.47766512],\n",
    " [0.81216873, 0.47997717],\n",
    " [0.3927848,  0.83607876],\n",
    " [0.33739616, 0.64817187],\n",
    " [0.36824154, 0.95715516],\n",
    " [0.14035078, 0.87008726],\n",
    " [0.47360805, 0.80091075],\n",
    " [0.52047748, 0.67887953],\n",
    " [0.72063265, 0.58201979],\n",
    " [0.53737323, 0.75861562],\n",
    " [0.10590761, 0.47360042],\n",
    " [0.18633234, 0.73691818]])\n",
    "\n",
    "n = len(X)\n",
    "K = 6\n",
    "\n",
    "mu = np.array([[0.6235637,  0.38438171],\n",
    " [0.3927848,  0.83607876],\n",
    " [0.81216873, 0.47997717],\n",
    " [0.14035078, 0.87008726],\n",
    " [0.36824154, 0.95715516],\n",
    " [0.10590761, 0.47360042]])\n",
    "\n",
    "sig = np.array([0.10038354, 0.07227467, 0.13240693, 0.12411825, 0.10497521, 0.12220856])\n",
    "\n",
    "p =  np.array([0.1680912,  0.15835331, 0.21384187, 0.14223565, 0.14295074, 0.17452722])\n"
   ]
  },
  {
   "cell_type": "code",
   "execution_count": 140,
   "metadata": {},
   "outputs": [],
   "source": [
    "def gauss(x, mu, sigma_sq):\n",
    "    return 1 / (2*np.pi*sigma_sq) * np.exp(-np.linalg.norm(x - mu)**2 / (2 * sigma_sq))"
   ]
  },
  {
   "cell_type": "code",
   "execution_count": 141,
   "metadata": {},
   "outputs": [
    {
     "data": {
      "text/plain": [
       "-5.592899125423124"
      ]
     },
     "execution_count": 141,
     "metadata": {},
     "output_type": "execute_result"
    }
   ],
   "source": [
    "r = np.zeros((n, K))\n",
    "\n",
    "for j in range(K):\n",
    "    for i in range(n):\n",
    "        r[i][j] = p[j]*gauss(X[i], mu[j], sig[j])\n",
    "        \n",
    "for i in range(n):\n",
    "    r[i] /= (np.sum(r,axis=1)[i])\n",
    "    \n",
    "ll = 0\n",
    "\n",
    "for i in range(n):\n",
    "    tmp = 0\n",
    "    for j in range(K):\n",
    "        tmp += p[j] * gauss(X[i], mu[j], sig[j])\n",
    "    ll += np.log(tmp)\n",
    "    \n",
    "#ll = np.sum(np.log())\n",
    "ll"
   ]
  },
  {
   "cell_type": "code",
   "execution_count": 229,
   "metadata": {},
   "outputs": [],
   "source": [
    "post = r\n",
    "\n",
    "n, d = X.shape\n",
    "_, K = post.shape\n",
    "\n",
    "min_variance = 0.25\n",
    "\n",
    "mus = np.zeros((K, d))\n",
    "sigs = np.zeros((K, ))\n",
    "ps = np.zeros((K, ))\n",
    "\n",
    "n_hat = np.sum(post, axis=0)\n",
    "\n",
    "for j in range(K):\n",
    "    ps[j] = n_hat[j]/n\n",
    "    mus[j] = np.matmul(post[:, j], X)/n_hat[j]    \n",
    "    sigs[j] = np.sum(np.dot(post[:, j], np.power(X - mus[j], 2))) / (n_hat[j] * d)\n"
   ]
  },
  {
   "cell_type": "code",
   "execution_count": 230,
   "metadata": {},
   "outputs": [
    {
     "data": {
      "text/plain": [
       "0.2398618216860094"
      ]
     },
     "execution_count": 230,
     "metadata": {},
     "output_type": "execute_result"
    }
   ],
   "source": [
    "np.sum(np.dot(post[:, j], np.power(X - mus[j], 2)))"
   ]
  },
  {
   "cell_type": "code",
   "execution_count": 231,
   "metadata": {},
   "outputs": [
    {
     "data": {
      "text/plain": [
       "0.21651689096224713"
      ]
     },
     "execution_count": 231,
     "metadata": {},
     "output_type": "execute_result"
    }
   ],
   "source": [
    "np.linalg.norm(X[0] - mus[0])**2"
   ]
  },
  {
   "cell_type": "code",
   "execution_count": 232,
   "metadata": {},
   "outputs": [
    {
     "data": {
      "text/plain": [
       "array([[0.52331295, 0.52392857],\n",
       "       [0.41528539, 0.73650289],\n",
       "       [0.58894129, 0.58909453],\n",
       "       [0.34452203, 0.70650629],\n",
       "       [0.41665741, 0.74466777],\n",
       "       [0.32203946, 0.5396801 ]])"
      ]
     },
     "execution_count": 232,
     "metadata": {},
     "output_type": "execute_result"
    }
   ],
   "source": [
    "mus"
   ]
  },
  {
   "cell_type": "code",
   "execution_count": 233,
   "metadata": {},
   "outputs": [
    {
     "data": {
      "text/plain": [
       "array([0.05360839, 0.03181134, 0.04893283, 0.03727128, 0.03542344,\n",
       "       0.05171667])"
      ]
     },
     "execution_count": 233,
     "metadata": {},
     "output_type": "execute_result"
    }
   ],
   "source": [
    "sigs"
   ]
  },
  {
   "cell_type": "code",
   "execution_count": 234,
   "metadata": {},
   "outputs": [
    {
     "data": {
      "text/plain": [
       "array([0.1680912 , 0.15835331, 0.21384187, 0.14223565, 0.14295074,\n",
       "       0.17452722])"
      ]
     },
     "execution_count": 234,
     "metadata": {},
     "output_type": "execute_result"
    }
   ],
   "source": [
    "p"
   ]
  },
  {
   "cell_type": "code",
   "execution_count": null,
   "metadata": {},
   "outputs": [],
   "source": []
  }
 ],
 "metadata": {
  "kernelspec": {
   "display_name": "Python 3",
   "language": "python",
   "name": "python3"
  },
  "language_info": {
   "codemirror_mode": {
    "name": "ipython",
    "version": 3
   },
   "file_extension": ".py",
   "mimetype": "text/x-python",
   "name": "python",
   "nbconvert_exporter": "python",
   "pygments_lexer": "ipython3",
   "version": "3.7.3"
  }
 },
 "nbformat": 4,
 "nbformat_minor": 2
}
