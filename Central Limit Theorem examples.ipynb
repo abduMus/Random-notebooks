{
 "cells": [
  {
   "cell_type": "markdown",
   "metadata": {},
   "source": [
    "# Central Limit Theorem:\n",
    "\n"
   ]
  },
  {
   "cell_type": "code",
   "execution_count": 1,
   "metadata": {},
   "outputs": [],
   "source": [
    "import numpy as np\n",
    "import math\n",
    "import matplotlib.pyplot as plt\n",
    "%matplotlib inline"
   ]
  },
  {
   "cell_type": "markdown",
   "metadata": {},
   "source": [
    "### We have a red coin, for which  P(Heads)=0.4 , a green coin, for which  P(Heads)=0.5 , and a yellow coin, for which  P(Heads)=0.6 . The flips of the same or of different coins are independent. For each of the following situations, determine whether the random variable  N  can be approximated by a normal."
   ]
  },
  {
   "cell_type": "code",
   "execution_count": 55,
   "metadata": {},
   "outputs": [],
   "source": [
    "p_r = 0.4\n",
    "p_g = 0.5\n",
    "p_y = 0.6"
   ]
  },
  {
   "cell_type": "markdown",
   "metadata": {},
   "source": [
    "#### 1. Let  N  be the number of Heads in 300 tosses of the red coin."
   ]
  },
  {
   "cell_type": "code",
   "execution_count": 56,
   "metadata": {},
   "outputs": [],
   "source": [
    "n = 300\n",
    "trials = 1000\n",
    "coins = ['red', 'green', 'yellow']\n",
    "outcomes=[1,0]\n"
   ]
  },
  {
   "cell_type": "code",
   "execution_count": 60,
   "metadata": {},
   "outputs": [],
   "source": [
    "all_outcomes = []\n",
    "\n",
    "for trial in range(trials):\n",
    "    heads = 0\n",
    "    for toss in range(n):\n",
    "        outcome = np.random.choice(outcomes, p=[0.4, 0.6])\n",
    "        heads += outcome\n",
    "    all_outcomes.append(heads)"
   ]
  },
  {
   "cell_type": "code",
   "execution_count": 61,
   "metadata": {},
   "outputs": [
    {
     "data": {
      "image/png": "[encoded data removed]",
      "text/plain": [
       "<Figure size 576x288 with 1 Axes>"
      ]
     },
     "metadata": {
      "needs_background": "light"
     },
     "output_type": "display_data"
    }
   ],
   "source": [
    "plt.figure(figsize=(8,4))\n",
    "plt.hist(np.array(all_outcomes), bins=50)\n",
    "plt.show()"
   ]
  },
  {
   "cell_type": "markdown",
   "metadata": {},
   "source": [
    "#### 2. Let  N  be the number of Heads in 300 tosses. At each toss, one of the three coins is selected at random (either choice is equally likely), and independently from everything else."
   ]
  },
  {
   "cell_type": "code",
   "execution_count": 68,
   "metadata": {},
   "outputs": [],
   "source": [
    "all_outcomes = []\n",
    "\n",
    "for trial in range(trials):\n",
    "    heads = 0\n",
    "    for toss in range(n):\n",
    "        coin = np.random.choice(coins)\n",
    "        if coin == 'red':\n",
    "            p = p_r\n",
    "        elif coin == 'green':\n",
    "            p = p_g\n",
    "        else:\n",
    "            p = p_y\n",
    "        outcome = np.random.choice(outcomes, p=[p, 1-p])\n",
    "        heads += outcome\n",
    "    all_outcomes.append(heads)"
   ]
  },
  {
   "cell_type": "code",
   "execution_count": 69,
   "metadata": {},
   "outputs": [
    {
     "data": {
      "image/png": "[encoded data removed]",
      "text/plain": [
       "<Figure size 576x288 with 1 Axes>"
      ]
     },
     "metadata": {
      "needs_background": "light"
     },
     "output_type": "display_data"
    }
   ],
   "source": [
    "plt.figure(figsize=(8,4))\n",
    "plt.hist(np.array(all_outcomes), bins=50)\n",
    "plt.show()"
   ]
  },
  {
   "cell_type": "code",
   "execution_count": 70,
   "metadata": {},
   "outputs": [
    {
     "data": {
      "text/plain": [
       "150.117"
      ]
     },
     "execution_count": 70,
     "metadata": {},
     "output_type": "execute_result"
    }
   ],
   "source": [
    "np.mean(all_outcomes)"
   ]
  },
  {
   "cell_type": "code",
   "execution_count": 71,
   "metadata": {},
   "outputs": [
    {
     "data": {
      "text/plain": [
       "73.85531100000001"
      ]
     },
     "execution_count": 71,
     "metadata": {},
     "output_type": "execute_result"
    }
   ],
   "source": [
    "np.std(all_outcomes)**2"
   ]
  },
  {
   "cell_type": "markdown",
   "metadata": {},
   "source": [
    "#### 3. Let  N  be the number of Heads in 100 tosses of the red coin, followed by 100 tosses of the green coin, followed by 100 tosses of the yellow coin (for a total of 300 tosses)."
   ]
  },
  {
   "cell_type": "code",
   "execution_count": 64,
   "metadata": {},
   "outputs": [],
   "source": [
    "all_outcomes = []\n",
    "\n",
    "for trial in range(trials):\n",
    "    heads = 0\n",
    "    for toss in range(n//3):\n",
    "        outcome = np.random.choice(outcomes, p=[p_r, 1-p_r])\n",
    "        heads += outcome\n",
    "    for toss in range(n//3):\n",
    "        outcome = np.random.choice(outcomes, p=[p_g, 1-p_g])\n",
    "        heads += outcome\n",
    "    for toss in range(n//3):\n",
    "        outcome = np.random.choice(outcomes, p=[p_y, 1-p_y])\n",
    "        heads += outcome\n",
    "    all_outcomes.append(heads)"
   ]
  },
  {
   "cell_type": "code",
   "execution_count": 65,
   "metadata": {},
   "outputs": [
    {
     "data": {
      "image/png": "[encoded data removed]",
      "text/plain": [
       "<Figure size 576x288 with 1 Axes>"
      ]
     },
     "metadata": {
      "needs_background": "light"
     },
     "output_type": "display_data"
    }
   ],
   "source": [
    "plt.figure(figsize=(8,4))\n",
    "plt.hist(np.array(all_outcomes), bins=50)\n",
    "plt.show()"
   ]
  },
  {
   "cell_type": "markdown",
   "metadata": {},
   "source": [
    "#### 4. We select one of the three coins at random: each coin is equally likely to be selected. We then toss the selected coin 300 times, independently, and let  N  be the number of Heads."
   ]
  },
  {
   "cell_type": "code",
   "execution_count": 66,
   "metadata": {},
   "outputs": [],
   "source": [
    "all_outcomes = []\n",
    "\n",
    "for trial in range(trials):\n",
    "    heads = 0\n",
    "    coin = np.random.choice(coins)\n",
    "    if coin == 'red':\n",
    "        p = p_r\n",
    "    elif coin == 'green':\n",
    "        p = p_g\n",
    "    else:\n",
    "        p = p_y\n",
    "    for toss in range(n):\n",
    "        outcome = np.random.choice(outcomes, p=[p, 1-p])\n",
    "        heads += outcome\n",
    "    all_outcomes.append(heads)"
   ]
  },
  {
   "cell_type": "code",
   "execution_count": 67,
   "metadata": {
    "scrolled": true
   },
   "outputs": [
    {
     "data": {
      "image/png": "[encoded data removed]",
      "text/plain": [
       "<Figure size 576x288 with 1 Axes>"
      ]
     },
     "metadata": {
      "needs_background": "light"
     },
     "output_type": "display_data"
    }
   ],
   "source": [
    "plt.figure(figsize=(8,4))\n",
    "plt.hist(np.array(all_outcomes), bins=50)\n",
    "plt.show()"
   ]
  },
  {
   "cell_type": "markdown",
   "metadata": {},
   "source": [
    "### Consider the class average in an exam in a few different settings. In all cases, assume that we have a large class consisting of equally well-prepared students. Think about the assumptions behind the central limit theorem, and choose the most appropriate response under the given description of the different settings.\n"
   ]
  },
  {
   "cell_type": "markdown",
   "metadata": {},
   "source": [
    "#### 1. Consider the class average in an exam of a fixed difficulty."
   ]
  },
  {
   "cell_type": "code",
   "execution_count": 2,
   "metadata": {},
   "outputs": [
    {
     "data": {
      "image/png": "[encoded data removed]",
      "text/plain": [
       "<Figure size 576x288 with 1 Axes>"
      ]
     },
     "metadata": {
      "needs_background": "light"
     },
     "output_type": "display_data"
    }
   ],
   "source": [
    "n_students = 100\n",
    "n_exams = 10000\n",
    "score = 90\n",
    "\n",
    "all_scores = []\n",
    "for exam in range(n_exams):\n",
    "    scores = 0\n",
    "    for student in range(n_students):\n",
    "        noise = np.random.normal(0,5)\n",
    "        scores += score + noise\n",
    "    all_scores.append(np.mean(scores))\n",
    "    \n",
    "plt.figure(figsize=(8,4))\n",
    "plt.hist(np.array(all_scores)/100, bins=50)\n",
    "plt.show()"
   ]
  },
  {
   "cell_type": "markdown",
   "metadata": {},
   "source": [
    "#### 2. Consider the class average in an exam that is equally likely to be very easy or very hard."
   ]
  },
  {
   "cell_type": "code",
   "execution_count": 3,
   "metadata": {},
   "outputs": [
    {
     "data": {
      "image/png": "[encoded data removed]",
      "text/plain": [
       "<Figure size 576x288 with 1 Axes>"
      ]
     },
     "metadata": {
      "needs_background": "light"
     },
     "output_type": "display_data"
    }
   ],
   "source": [
    "n_students = 100\n",
    "exam_types = ['easy', 'hard']\n",
    "n_exams = 10000\n",
    "all_scores = []\n",
    "\n",
    "for exam in range(n_exams):\n",
    "    scores = 0\n",
    "    difficulty = np.random.choice(exam_types)\n",
    "    if difficulty == 'easy':\n",
    "        score = 90\n",
    "    else:\n",
    "        score = 75\n",
    "    for student in range(n_students):\n",
    "        noise = np.random.normal(0,5)\n",
    "        scores += score + noise\n",
    "    all_scores.append(np.mean(scores))\n",
    "\n",
    "plt.figure(figsize=(8,4))\n",
    "plt.hist(np.array(all_scores)/100, bins=50)\n",
    "plt.show()"
   ]
  },
  {
   "cell_type": "markdown",
   "metadata": {},
   "source": [
    "#### 3. Consider the class average if the class is split into two equal-size sections. One section gets an easy exam and the other section gets a hard exam."
   ]
  },
  {
   "cell_type": "code",
   "execution_count": 4,
   "metadata": {},
   "outputs": [
    {
     "data": {
      "image/png": "[encoded data removed]",
      "text/plain": [
       "<Figure size 576x288 with 1 Axes>"
      ]
     },
     "metadata": {
      "needs_background": "light"
     },
     "output_type": "display_data"
    }
   ],
   "source": [
    "n_students = 100\n",
    "n_exams = 10000\n",
    "all_scores = []\n",
    "\n",
    "for exam in range(n_exams):\n",
    "    scores = 0\n",
    "    for student in range(n_students//2):\n",
    "        score = 90\n",
    "        noise = np.random.normal(0,5)\n",
    "        scores += score + noise\n",
    "    for student in range(n_students//2):\n",
    "        score = 75\n",
    "        noise = np.random.normal(0,5)\n",
    "        scores += score + noise\n",
    "    all_scores.append(np.mean(scores))\n",
    "    \n",
    "plt.figure(figsize=(8,4))\n",
    "plt.hist(np.array(all_scores)/100, bins=50)\n",
    "plt.show()"
   ]
  },
  {
   "cell_type": "markdown",
   "metadata": {},
   "source": [
    "#### 4. Consider the class average if every student is (randomly and independently) given either an easy or a hard exam.\n",
    "\n",
    "\n"
   ]
  },
  {
   "cell_type": "code",
   "execution_count": 5,
   "metadata": {},
   "outputs": [
    {
     "data": {
      "image/png": "[encoded data removed]",
      "text/plain": [
       "<Figure size 576x288 with 1 Axes>"
      ]
     },
     "metadata": {
      "needs_background": "light"
     },
     "output_type": "display_data"
    }
   ],
   "source": [
    "n_students = 100\n",
    "exam_types = ['easy', 'hard'] # 90/60\n",
    "n_exams = 10000\n",
    "all_scores = []\n",
    "\n",
    "for exam in range(n_exams):\n",
    "    scores = 0\n",
    "    for student in range(n_students):\n",
    "        difficulty = np.random.choice(exam_types)\n",
    "        if difficulty == 'easy':\n",
    "            score = 90\n",
    "        else:\n",
    "            score = 75\n",
    "        noise = np.random.normal(0,5)\n",
    "        scores += score + noise\n",
    "    all_scores.append(np.mean(scores))\n",
    "\n",
    "plt.figure(figsize=(8,4))\n",
    "plt.hist(np.array(all_scores)/100, bins=50)\n",
    "plt.show()"
   ]
  }
 ],
 "metadata": {
  "kernelspec": {
   "display_name": "Python 3",
   "language": "python",
   "name": "python3"
  },
  "language_info": {
   "codemirror_mode": {
    "name": "ipython",
    "version": 3
   },
   "file_extension": ".py",
   "mimetype": "text/x-python",
   "name": "python",
   "nbconvert_exporter": "python",
   "pygments_lexer": "ipython3",
   "version": "3.7.3"
  }
 },
 "nbformat": 4,
 "nbformat_minor": 2
}
