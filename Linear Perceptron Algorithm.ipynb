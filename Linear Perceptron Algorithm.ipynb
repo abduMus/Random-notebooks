{
 "cells": [
  {
   "cell_type": "markdown",
   "metadata": {},
   "source": [
    "# Linear Perceptron Algorithm"
   ]
  },
  {
   "cell_type": "code",
   "execution_count": 1,
   "metadata": {},
   "outputs": [],
   "source": [
    "import numpy as np\n",
    "import matplotlib.pylab as plt\n",
    "%matplotlib inline"
   ]
  },
  {
   "cell_type": "code",
   "execution_count": 2,
   "metadata": {},
   "outputs": [],
   "source": [
    "X = np.array([[0,0],[2,0],[3,0],[0,2],[2,2],[5,1],[5,2],[2,4],[4,4],[5,5]]) #10x2\n",
    "y = np.array([-1, -1, -1, -1, -1, 1, 1, 1, 1, 1]).reshape(-1,1) # 10x1"
   ]
  },
  {
   "cell_type": "code",
   "execution_count": 9,
   "metadata": {},
   "outputs": [
    {
     "name": "stdout",
     "output_type": "stream",
     "text": [
      "23.753252506256104\n"
     ]
    }
   ],
   "source": [
    "T = 10\n",
    "\n",
    "import time\n",
    "import itertools\n",
    "N = list(itertools.permutations([1, 2, 3, 4, 5, 6, 7, 8, 9]))\n",
    "\n",
    "best_orders = []\n",
    "\n",
    "start = time.time()\n",
    "for n in N:\n",
    "    mistakes = {'[0 0]': 0, '[2 0]': 0, '[3 0]': 0, '[0 2]': 0, '[2 2]': 0, '[5 1]': 0, '[5 2]': 0, '[2 4]' : 0, '[4 4]' : 0, '[5 5]' : 0}\n",
    "    theta0 = 0\n",
    "    theta = np.array([0, 0]).reshape(-1,1) # 2x1\n",
    "    n = [0] + list(n)\n",
    "    for t in range(T):\n",
    "        for i in n:\n",
    "            if int(y[i])*(np.dot(theta.T, X[i].reshape(-1,1)) + theta0) <= 0:\n",
    "                mistakes[str(X[i])] = mistakes[str(X[i])] + 1\n",
    "                theta = theta + y[i]*X[i].reshape(-1,1)\n",
    "                theta0 = theta0 + y[i]\n",
    "    #if mistakes['[0 0]'] == 1 and mistakes['[2 0]'] == 9 and mistakes['[3 0]'] == 10 and mistakes['[0 2]'] == 5 and mistakes['[2 2]'] == 9 and mistakes['[5 1]'] == 11 and mistakes['[5 2]'] == 0 and mistakes['[2 4]'] == 3 and mistakes['[4 4]'] == 1 and mistakes['[5 5]'] == 1:\n",
    "    #    break\n",
    "    if mistakes['[5 2]'] == 0 and mistakes['[0 0]'] == 1 and mistakes['[4 4]'] == 1 and mistakes['[5 5]'] == 1 and mistakes['[2 4]'] == 3:\n",
    "        break\n",
    "end = time.time()\n",
    "\n",
    "print(end-start)"
   ]
  },
  {
   "cell_type": "code",
   "execution_count": 10,
   "metadata": {},
   "outputs": [
    {
     "data": {
      "text/plain": [
       "[0, 1, 3, 9, 2, 7, 4, 8, 5, 6]"
      ]
     },
     "execution_count": 10,
     "metadata": {},
     "output_type": "execute_result"
    }
   ],
   "source": [
    "n"
   ]
  },
  {
   "cell_type": "code",
   "execution_count": null,
   "metadata": {},
   "outputs": [],
   "source": [
    "mistakes"
   ]
  },
  {
   "cell_type": "code",
   "execution_count": null,
   "metadata": {},
   "outputs": [],
   "source": [
    "n = [0, 1, 2, 3, 4, 5, 7, 8, 9]"
   ]
  },
  {
   "cell_type": "code",
   "execution_count": null,
   "metadata": {},
   "outputs": [],
   "source": [
    "[6] + n"
   ]
  },
  {
   "cell_type": "code",
   "execution_count": 11,
   "metadata": {},
   "outputs": [],
   "source": [
    "n_best = [0, 1, 3, 9, 2, 7, 4, 8, 5, 6]\n",
    "theta0_best = 0\n",
    "theta_best = np.array([0, 0]).reshape(-1,1)\n",
    "T = 200\n",
    "mistakes_best = {'[0 0]': 0, '[2 0]': 0, '[3 0]': 0, '[0 2]': 0, '[2 2]': 0, '[5 1]': 0, '[5 2]': 0, '[2 4]' : 0, '[4 4]' : 0, '[5 5]' : 0}\n",
    "\n",
    "for t in range(T):\n",
    "    for i in n_best:\n",
    "        if int(y[i])*(np.dot(theta_best.T, X[i].reshape(-1,1)) + theta0_best) <= 0:\n",
    "            mistakes_best[str(X[i])] = mistakes_best[str(X[i])] + 1\n",
    "            theta_best = theta_best + y[i]*X[i].reshape(-1,1)\n",
    "            theta0_best = theta0_best + y[i]"
   ]
  },
  {
   "cell_type": "code",
   "execution_count": 12,
   "metadata": {},
   "outputs": [
    {
     "data": {
      "text/plain": [
       "{'[0 0]': 1,\n",
       " '[2 0]': 9,\n",
       " '[3 0]': 10,\n",
       " '[0 2]': 5,\n",
       " '[2 2]': 9,\n",
       " '[5 1]': 11,\n",
       " '[5 2]': 0,\n",
       " '[2 4]': 3,\n",
       " '[4 4]': 1,\n",
       " '[5 5]': 1}"
      ]
     },
     "execution_count": 12,
     "metadata": {},
     "output_type": "execute_result"
    }
   ],
   "source": [
    "mistakes_best"
   ]
  },
  {
   "cell_type": "code",
   "execution_count": 13,
   "metadata": {},
   "outputs": [
    {
     "data": {
      "text/plain": [
       "array([[4],\n",
       "       [4]])"
      ]
     },
     "execution_count": 13,
     "metadata": {},
     "output_type": "execute_result"
    }
   ],
   "source": [
    "theta_best"
   ]
  },
  {
   "cell_type": "code",
   "execution_count": 14,
   "metadata": {},
   "outputs": [
    {
     "data": {
      "text/plain": [
       "array([-18])"
      ]
     },
     "execution_count": 14,
     "metadata": {},
     "output_type": "execute_result"
    }
   ],
   "source": [
    "theta0_best"
   ]
  },
  {
   "cell_type": "code",
   "execution_count": null,
   "metadata": {},
   "outputs": [],
   "source": [
    "## Time algorithm for all permutations"
   ]
  },
  {
   "cell_type": "code",
   "execution_count": null,
   "metadata": {},
   "outputs": [],
   "source": [
    "x = [10, 100, 1000, 10000]\n",
    "y = [0.056, 0.56, 4.54, 40]\n",
    "from scipy import stats\n",
    "slope, intercept, r_value, p_value, std_err = stats.linregress(x,y)"
   ]
  },
  {
   "cell_type": "code",
   "execution_count": null,
   "metadata": {},
   "outputs": [],
   "source": [
    "plt.figure(figsize=(10,8))\n",
    "plt.scatter(x,y)\n",
    "plt.plot(np.arange(0, 3500000, 1000), slope*np.arange(0, 3500000, 1000)+intercept, 'r')"
   ]
  },
  {
   "cell_type": "code",
   "execution_count": null,
   "metadata": {},
   "outputs": [],
   "source": [
    "slope*3500000 + intercept"
   ]
  },
  {
   "cell_type": "code",
   "execution_count": null,
   "metadata": {},
   "outputs": [],
   "source": []
  },
  {
   "cell_type": "code",
   "execution_count": null,
   "metadata": {},
   "outputs": [],
   "source": []
  },
  {
   "cell_type": "code",
   "execution_count": null,
   "metadata": {},
   "outputs": [],
   "source": [
    "X = np.array([[0,0],[2,0],[1,1],[0,2],[3,3],[4,1],[5,2],[1,4],[4,4],[5,5]]) #10x2\n",
    "y = np.array([-1, -1, -1, -1, -1, 1, 1, 1, 1, 1]).reshape(-1,1) # 10x1"
   ]
  },
  {
   "cell_type": "code",
   "execution_count": null,
   "metadata": {},
   "outputs": [],
   "source": [
    "newX = np.zeros((10, 3))\n",
    "\n",
    "for i in np.arange(10):\n",
    "    newX[i][0] = (X[i][0])**2\n",
    "    newX[i][1] = np.sqrt(2)*X[i][0]*X[i][1]\n",
    "    newX[i][2] = (X[i][1])**2"
   ]
  },
  {
   "cell_type": "code",
   "execution_count": null,
   "metadata": {},
   "outputs": [],
   "source": [
    "newX"
   ]
  },
  {
   "cell_type": "code",
   "execution_count": null,
   "metadata": {
    "scrolled": true
   },
   "outputs": [],
   "source": [
    "n = np.arange(10)\n",
    "\n",
    "T = 100\n",
    "\n",
    "import itertools\n",
    "\n",
    "N = list(itertools.permutations([0, 1, 2, 3, 4, 5, 6, 7, 8, 9]))\n",
    "\n",
    "for n in N:\n",
    "    mistakes = {'[0 0]': 0, '[2 0]': 0, '[1 1]': 0, '[0 2]': 0, '[3 3]': 0, '[4 1]': 0, '[5 2]': 0, '[1 4]' : 0, '[4 4]' : 0, '[5 5]' : 0}\n",
    "    theta0 = 0\n",
    "    theta = cp.array([0, 0, 0]).reshape(-1,1) # 3x1\n",
    "    for t in range(T):\n",
    "        for i in n:\n",
    "            if int(y[i])*(cp.dot(theta.T, newX[i].reshape(-1,1)) + theta0) <= 0:\n",
    "                mistakes[str(X[i])] = mistakes[str(X[i])] + 1\n",
    "                theta = theta + y[i]*newX[i].reshape(-1,1)\n",
    "                theta0 = theta0 + y[i]\n",
    "        if mistakes['[0 0]'] == 1 and mistakes['[2 0]'] == 65 and mistakes['[1 1]'] == 11 and mistakes['[0 2]'] == 31 and mistakes['[3 3]'] == 72 and mistakes['[4 1]'] == 30 and mistakes['[5 2]'] == 0 and mistakes['[1 4]'] == 21 and mistakes['[4 4]'] == 4 and mistakes['[5 5]'] == 15:\n",
    "            break"
   ]
  },
  {
   "cell_type": "code",
   "execution_count": null,
   "metadata": {
    "scrolled": true
   },
   "outputs": [],
   "source": [
    "n"
   ]
  },
  {
   "cell_type": "code",
   "execution_count": null,
   "metadata": {},
   "outputs": [],
   "source": [
    "theta0"
   ]
  },
  {
   "cell_type": "code",
   "execution_count": null,
   "metadata": {},
   "outputs": [],
   "source": [
    "theta"
   ]
  },
  {
   "cell_type": "code",
   "execution_count": null,
   "metadata": {},
   "outputs": [],
   "source": []
  }
 ],
 "metadata": {
  "kernelspec": {
   "display_name": "Python 3",
   "language": "python",
   "name": "python3"
  },
  "language_info": {
   "codemirror_mode": {
    "name": "ipython",
    "version": 3
   },
   "file_extension": ".py",
   "mimetype": "text/x-python",
   "name": "python",
   "nbconvert_exporter": "python",
   "pygments_lexer": "ipython3",
   "version": "3.7.3"
  }
 },
 "nbformat": 4,
 "nbformat_minor": 2
}
