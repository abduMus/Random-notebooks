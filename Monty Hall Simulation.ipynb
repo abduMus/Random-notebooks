{
 "cells": [
  {
   "cell_type": "code",
   "execution_count": 1,
   "metadata": {},
   "outputs": [],
   "source": [
    "import numpy as np\n",
    "import random"
   ]
  },
  {
   "cell_type": "code",
   "execution_count": 37,
   "metadata": {},
   "outputs": [],
   "source": [
    "trials = 1000000"
   ]
  },
  {
   "cell_type": "code",
   "execution_count": 38,
   "metadata": {},
   "outputs": [
    {
     "data": {
      "text/plain": [
       "0.333538"
      ]
     },
     "execution_count": 38,
     "metadata": {},
     "output_type": "execute_result"
    }
   ],
   "source": [
    "# Strategy 1: Never switching\n",
    "\n",
    "wins = 0\n",
    "\n",
    "doors = ['goat', 'goat', 'car']\n",
    "for i in range(trials):\n",
    "    choice = random.choice(doors)\n",
    "    if choice == 'car':\n",
    "        wins += 1\n",
    "        \n",
    "prob_win_no_switch = wins/trials\n",
    "prob_win_no_switch"
   ]
  },
  {
   "cell_type": "code",
   "execution_count": 39,
   "metadata": {},
   "outputs": [
    {
     "data": {
      "text/plain": [
       "0.666512"
      ]
     },
     "execution_count": 39,
     "metadata": {},
     "output_type": "execute_result"
    }
   ],
   "source": [
    "# Strategy 2: Always switching\n",
    "\n",
    "picks = [0, 1, 2]\n",
    "wins = 0\n",
    "\n",
    "for i in range(trials):\n",
    "    doors = ['goat', 'goat', 'car']\n",
    "    pick = doors.pop(random.choice(picks))\n",
    "    if pick == 'car':\n",
    "        pass\n",
    "    else:\n",
    "        wins += 1\n",
    "\n",
    "prob_win_always_switch = wins/trials\n",
    "prob_win_always_switch"
   ]
  },
  {
   "cell_type": "code",
   "execution_count": null,
   "metadata": {},
   "outputs": [],
   "source": []
  }
 ],
 "metadata": {
  "kernelspec": {
   "display_name": "Python 3",
   "language": "python",
   "name": "python3"
  },
  "language_info": {
   "codemirror_mode": {
    "name": "ipython",
    "version": 3
   },
   "file_extension": ".py",
   "mimetype": "text/x-python",
   "name": "python",
   "nbconvert_exporter": "python",
   "pygments_lexer": "ipython3",
   "version": "3.7.3"
  }
 },
 "nbformat": 4,
 "nbformat_minor": 2
}
