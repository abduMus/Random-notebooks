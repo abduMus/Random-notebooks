{
 "cells": [
  {
   "cell_type": "code",
   "execution_count": 4,
   "metadata": {},
   "outputs": [],
   "source": [
    "import random\n",
    "import numpy as np\n",
    "from numpy.random import choice\n",
    "import math"
   ]
  },
  {
   "cell_type": "code",
   "execution_count": 24,
   "metadata": {},
   "outputs": [],
   "source": [
    "choices = ['h', 't']\n",
    "prob_dist = [3/4, 1/4]\n",
    "N = 11\n",
    "\n",
    "iterations = 1000000\n",
    "results = []\n",
    "\n",
    "for i in range(iterations):\n",
    "    prev = None\n",
    "    curr = None\n",
    "    result = 0\n",
    "    for i in range(N):\n",
    "        curr = choice(choices, p=prob_dist)\n",
    "        if i == 0:\n",
    "            pass\n",
    "        else:\n",
    "            if curr == 't' and prev == 'h':\n",
    "                result += 1\n",
    "        prev = curr\n",
    "    results.append(result)"
   ]
  },
  {
   "cell_type": "code",
   "execution_count": 26,
   "metadata": {},
   "outputs": [
    {
     "data": {
      "text/plain": [
       "0.8896798016"
      ]
     },
     "execution_count": 26,
     "metadata": {},
     "output_type": "execute_result"
    }
   ],
   "source": [
    "np.std(results)**2"
   ]
  },
  {
   "cell_type": "code",
   "execution_count": null,
   "metadata": {},
   "outputs": [],
   "source": []
  }
 ],
 "metadata": {
  "kernelspec": {
   "display_name": "Python 3",
   "language": "python",
   "name": "python3"
  },
  "language_info": {
   "codemirror_mode": {
    "name": "ipython",
    "version": 3
   },
   "file_extension": ".py",
   "mimetype": "text/x-python",
   "name": "python",
   "nbconvert_exporter": "python",
   "pygments_lexer": "ipython3",
   "version": "3.7.3"
  }
 },
 "nbformat": 4,
 "nbformat_minor": 2
}
