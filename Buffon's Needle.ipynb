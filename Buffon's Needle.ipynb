{
 "cells": [
  {
   "cell_type": "markdown",
   "metadata": {},
   "source": [
    "## Buffon's Needle"
   ]
  },
  {
   "cell_type": "code",
   "execution_count": 1,
   "metadata": {},
   "outputs": [],
   "source": [
    "import numpy as np\n",
    "import random\n",
    "import math"
   ]
  },
  {
   "cell_type": "code",
   "execution_count": 52,
   "metadata": {},
   "outputs": [],
   "source": [
    "maxLength = 10\n",
    "d = 1\n",
    "l = 0.5\n",
    "numNeedles = 10000000\n",
    "\n",
    "count = 0\n",
    "for i in range(numNeedles):\n",
    "    pos = random.random()*maxLength\n",
    "    theta = random.random()*math.pi/2\n",
    "    \n",
    "    if round(pos) >= pos:\n",
    "        if round(pos) - pos <= l/2*math.sin(theta):\n",
    "            count +=1 \n",
    "    else:\n",
    "        if pos - round(pos) <= l/2*math.sin(theta):\n",
    "            count += 1"
   ]
  },
  {
   "cell_type": "code",
   "execution_count": 54,
   "metadata": {},
   "outputs": [],
   "source": [
    "pi_approximate = 2*l*numNeedles/count/d"
   ]
  },
  {
   "cell_type": "code",
   "execution_count": 55,
   "metadata": {},
   "outputs": [
    {
     "data": {
      "text/plain": [
       "3.1419300939405677"
      ]
     },
     "execution_count": 55,
     "metadata": {},
     "output_type": "execute_result"
    }
   ],
   "source": [
    "pi_approximate"
   ]
  }
 ],
 "metadata": {
  "kernelspec": {
   "display_name": "Python 3",
   "language": "python",
   "name": "python3"
  },
  "language_info": {
   "codemirror_mode": {
    "name": "ipython",
    "version": 3
   },
   "file_extension": ".py",
   "mimetype": "text/x-python",
   "name": "python",
   "nbconvert_exporter": "python",
   "pygments_lexer": "ipython3",
   "version": "3.7.3"
  }
 },
 "nbformat": 4,
 "nbformat_minor": 2
}
